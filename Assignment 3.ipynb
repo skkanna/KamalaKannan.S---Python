{
 "cells": [
  {
   "cell_type": "code",
   "execution_count": 1,
   "metadata": {},
   "outputs": [
    {
     "name": "stdout",
     "output_type": "stream",
     "text": [
      "Why on earth you are dividing a number by ZERO!!\n"
     ]
    }
   ],
   "source": [
    "#Task 1 1\n",
    "def divide():\n",
    "    return 5/0\n",
    "\n",
    "try:\n",
    "    divide()\n",
    "except ZeroDivisionError as ze:\n",
    "    print(\"Why on earth you are dividing a number by ZERO!!\")\n",
    "except:\n",
    "    print(\"Any other exception\")"
   ]
  },
  {
   "cell_type": "code",
   "execution_count": 2,
   "metadata": {},
   "outputs": [
    {
     "name": "stdout",
     "output_type": "stream",
     "text": [
      "Americans Play Baseball\n",
      "Americans Play cricket\n",
      "Americans watch Baseball\n",
      "Americans watch cricket\n",
      "Indians Play Baseball\n",
      "Indians Play cricket\n",
      "Indians watch Baseball\n",
      "Indians watch cricket\n"
     ]
    }
   ],
   "source": [
    "#2\n",
    "subjects=[\"Americans\", \"Indians\"]\n",
    "verb=[\"Play\", \"watch\"]\n",
    "objects=[\"Baseball\",\"cricket\"]\n",
    "\n",
    "# Use list comprehension instead of looping over each of the predicates\t\n",
    "sentence_list = [(sub+\" \"+ vb + \" \" + ob) for sub in subjects for vb in verb for ob in objects]\t\n",
    "for sentence in sentence_list:\n",
    " print (sentence)"
   ]
  },
  {
   "cell_type": "code",
   "execution_count": 3,
   "metadata": {},
   "outputs": [
    {
     "name": "stdout",
     "output_type": "stream",
     "text": [
      "------------OUTPUT-------------\n",
      "\n",
      "The input array is: [1 2 3 4 5] \n",
      "\n",
      "Number of columns in output matrix should be: 3 \n",
      "\n",
      "Vander matrix of the input array in decreasing order of powers:\n",
      "\n",
      " [[ 1  1  1]\n",
      " [ 4  2  1]\n",
      " [ 9  3  1]\n",
      " [16  4  1]\n",
      " [25  5  1]] \n",
      "\n",
      "Vander matrix of the input array in increasing order of powers:\n",
      "\n",
      " [[ 1  1  1]\n",
      " [ 1  2  4]\n",
      " [ 1  3  9]\n",
      " [ 1  4 16]\n",
      " [ 1  5 25]] \n",
      "\n",
      "---------------------------------------------------------------\n",
      "\n",
      "The input array is: [ 1  2  4  6  8 10] \n",
      "\n",
      "Number of columns in output matrix should be: 5 \n",
      "\n",
      "Vander matrix of the input array in decreasing order of powers:\n",
      "\n",
      " [[    1     1     1     1     1]\n",
      " [   16     8     4     2     1]\n",
      " [  256    64    16     4     1]\n",
      " [ 1296   216    36     6     1]\n",
      " [ 4096   512    64     8     1]\n",
      " [10000  1000   100    10     1]] \n",
      "\n",
      "Vander matrix of the input array in increasing order of powers:\n",
      "\n",
      " [[    1     1     1     1     1]\n",
      " [    1     2     4     8    16]\n",
      " [    1     4    16    64   256]\n",
      " [    1     6    36   216  1296]\n",
      " [    1     8    64   512  4096]\n",
      " [    1    10   100  1000 10000]] \n",
      "\n"
     ]
    }
   ],
   "source": [
    "#Task 2 1\n",
    "import numpy as np\n",
    "def gen_vander_matrix(ipvector, n, increasing=False):\n",
    "    \n",
    "    if not increasing:\n",
    "        op_matx = np.array([x**(n-1-i) for x in ipvector for i in range(n)]).reshape(ipvector.size,n)\n",
    "    elif increasing:\n",
    "        op_matx = np.array([x**i for x in ipvector for i in range(n)]).reshape(ipvector.size,n)\n",
    "    \n",
    "    return op_matx\n",
    "\n",
    "print(\"------------OUTPUT-------------\\n\")\n",
    "\n",
    "inputvector = np.array([1,2,3,4,5])\n",
    "no_col_opmat = 3\n",
    "op_matx_dec_order = gen_vander_matrix(inputvector,no_col_opmat,False)\n",
    "op_matx_inc_order = gen_vander_matrix(inputvector,no_col_opmat,True)\n",
    "\n",
    "print(\"The input array is:\",inputvector,\"\\n\")\n",
    "print(\"Number of columns in output matrix should be:\",no_col_opmat,\"\\n\")\n",
    "print(\"Vander matrix of the input array in decreasing order of powers:\\n\\n\",op_matx_dec_order,\"\\n\")\n",
    "print(\"Vander matrix of the input array in increasing order of powers:\\n\\n\",op_matx_inc_order,\"\\n\")\n",
    "\n",
    "inputvector = np.array([1,2,4,6,8,10])\n",
    "no_col_opmat = 5\n",
    "op_matx_dec_order = gen_vander_matrix(inputvector,no_col_opmat,False)\n",
    "op_matx_inc_order = gen_vander_matrix(inputvector,no_col_opmat,True)\n",
    "\n",
    "print(\"---------------------------------------------------------------\\n\")\n",
    "print(\"The input array is:\",inputvector,\"\\n\")\n",
    "print(\"Number of columns in output matrix should be:\",no_col_opmat,\"\\n\")\n",
    "print(\"Vander matrix of the input array in decreasing order of powers:\\n\\n\",op_matx_dec_order,\"\\n\")\n",
    "print(\"Vander matrix of the input array in increasing order of powers:\\n\\n\",op_matx_inc_order,\"\\n\")"
   ]
  }
 ],
 "metadata": {
  "kernelspec": {
   "display_name": "Python 3",
   "language": "python",
   "name": "python3"
  },
  "language_info": {
   "codemirror_mode": {
    "name": "ipython",
    "version": 3
   },
   "file_extension": ".py",
   "mimetype": "text/x-python",
   "name": "python",
   "nbconvert_exporter": "python",
   "pygments_lexer": "ipython3",
   "version": "3.7.3"
  }
 },
 "nbformat": 4,
 "nbformat_minor": 2
}
